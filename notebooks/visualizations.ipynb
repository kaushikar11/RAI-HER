{
 "cells": [
  {
   "cell_type": "code",
   "execution_count": 1,
   "id": "ca313bb0",
   "metadata": {
    "_cell_guid": "b1076dfc-b9ad-4769-8c92-a6c4dae69d19",
    "_uuid": "8f2839f25d086af736a60e9eeb907d3b93b6e0e5",
    "execution": {
     "iopub.execute_input": "2025-03-02T05:38:12.675191Z",
     "iopub.status.busy": "2025-03-02T05:38:12.674696Z",
     "iopub.status.idle": "2025-03-02T05:38:13.714451Z",
     "shell.execute_reply": "2025-03-02T05:38:13.713098Z"
    },
    "papermill": {
     "duration": 1.046233,
     "end_time": "2025-03-02T05:38:13.716354",
     "exception": false,
     "start_time": "2025-03-02T05:38:12.670121",
     "status": "completed"
    },
    "tags": []
   },
   "outputs": [
    {
     "name": "stdout",
     "output_type": "stream",
     "text": [
      "/kaggle/input/tuner-results/fairness_metrics.csv\n",
      "/kaggle/input/tuner-results/model_performance.csv\n"
     ]
    }
   ],
   "source": [
    "# This Python 3 environment comes with many helpful analytics libraries installed\n",
    "# It is defined by the kaggle/python Docker image: https://github.com/kaggle/docker-python\n",
    "# For example, here's several helpful packages to load\n",
    "\n",
    "import numpy as np # linear algebra\n",
    "import pandas as pd # data processing, CSV file I/O (e.g. pd.read_csv)\n",
    "\n",
    "# Input data files are available in the read-only \"../input/\" directory\n",
    "# For example, running this (by clicking run or pressing Shift+Enter) will list all files under the input directory\n",
    "\n",
    "import os\n",
    "for dirname, _, filenames in os.walk('/kaggle/input'):\n",
    "    for filename in filenames:\n",
    "        print(os.path.join(dirname, filename))\n",
    "\n",
    "# You can write up to 20GB to the current directory (/kaggle/working/) that gets preserved as output when you create a version using \"Save & Run All\" \n",
    "# You can also write temporary files to /kaggle/temp/, but they won't be saved outside of the current session"
   ]
  },
  {
   "cell_type": "code",
   "execution_count": 2,
   "id": "b6327a01",
   "metadata": {
    "execution": {
     "iopub.execute_input": "2025-03-02T05:38:13.723369Z",
     "iopub.status.busy": "2025-03-02T05:38:13.722894Z",
     "iopub.status.idle": "2025-03-02T05:38:13.749804Z",
     "shell.execute_reply": "2025-03-02T05:38:13.748678Z"
    },
    "papermill": {
     "duration": 0.032157,
     "end_time": "2025-03-02T05:38:13.751536",
     "exception": false,
     "start_time": "2025-03-02T05:38:13.719379",
     "status": "completed"
    },
    "tags": []
   },
   "outputs": [],
   "source": [
    "results = pd.read_csv(\"/kaggle/input/tuner-results/model_performance.csv\")\n",
    "fair_results = pd.read_csv(\"/kaggle/input/tuner-results/fairness_metrics.csv\")"
   ]
  },
  {
   "cell_type": "code",
   "execution_count": 3,
   "id": "9ac3670b",
   "metadata": {
    "execution": {
     "iopub.execute_input": "2025-03-02T05:38:13.757789Z",
     "iopub.status.busy": "2025-03-02T05:38:13.757400Z",
     "iopub.status.idle": "2025-03-02T05:38:13.786811Z",
     "shell.execute_reply": "2025-03-02T05:38:13.785652Z"
    },
    "papermill": {
     "duration": 0.034406,
     "end_time": "2025-03-02T05:38:13.788519",
     "exception": false,
     "start_time": "2025-03-02T05:38:13.754113",
     "status": "completed"
    },
    "tags": []
   },
   "outputs": [
    {
     "data": {
      "text/html": [
       "<div>\n",
       "<style scoped>\n",
       "    .dataframe tbody tr th:only-of-type {\n",
       "        vertical-align: middle;\n",
       "    }\n",
       "\n",
       "    .dataframe tbody tr th {\n",
       "        vertical-align: top;\n",
       "    }\n",
       "\n",
       "    .dataframe thead th {\n",
       "        text-align: right;\n",
       "    }\n",
       "</style>\n",
       "<table border=\"1\" class=\"dataframe\">\n",
       "  <thead>\n",
       "    <tr style=\"text-align: right;\">\n",
       "      <th></th>\n",
       "      <th>Model</th>\n",
       "      <th>Accuracy</th>\n",
       "      <th>Precision</th>\n",
       "      <th>Recall</th>\n",
       "    </tr>\n",
       "  </thead>\n",
       "  <tbody>\n",
       "    <tr>\n",
       "      <th>0</th>\n",
       "      <td>CNN</td>\n",
       "      <td>0.9081</td>\n",
       "      <td>0.9077</td>\n",
       "      <td>0.9081</td>\n",
       "    </tr>\n",
       "    <tr>\n",
       "      <th>1</th>\n",
       "      <td>RNN</td>\n",
       "      <td>0.9528</td>\n",
       "      <td>0.9536</td>\n",
       "      <td>0.9528</td>\n",
       "    </tr>\n",
       "    <tr>\n",
       "      <th>2</th>\n",
       "      <td>GRU</td>\n",
       "      <td>0.9580</td>\n",
       "      <td>0.9585</td>\n",
       "      <td>0.9580</td>\n",
       "    </tr>\n",
       "    <tr>\n",
       "      <th>3</th>\n",
       "      <td>LSTM</td>\n",
       "      <td>0.9601</td>\n",
       "      <td>0.9608</td>\n",
       "      <td>0.9601</td>\n",
       "    </tr>\n",
       "    <tr>\n",
       "      <th>4</th>\n",
       "      <td>MLP</td>\n",
       "      <td>0.9414</td>\n",
       "      <td>0.9431</td>\n",
       "      <td>0.9414</td>\n",
       "    </tr>\n",
       "  </tbody>\n",
       "</table>\n",
       "</div>"
      ],
      "text/plain": [
       "  Model  Accuracy  Precision  Recall\n",
       "0   CNN    0.9081     0.9077  0.9081\n",
       "1   RNN    0.9528     0.9536  0.9528\n",
       "2   GRU    0.9580     0.9585  0.9580\n",
       "3  LSTM    0.9601     0.9608  0.9601\n",
       "4   MLP    0.9414     0.9431  0.9414"
      ]
     },
     "execution_count": 3,
     "metadata": {},
     "output_type": "execute_result"
    }
   ],
   "source": [
    "results"
   ]
  },
  {
   "cell_type": "code",
   "execution_count": 4,
   "id": "3382c8f9",
   "metadata": {
    "execution": {
     "iopub.execute_input": "2025-03-02T05:38:13.795366Z",
     "iopub.status.busy": "2025-03-02T05:38:13.795044Z",
     "iopub.status.idle": "2025-03-02T05:38:14.147606Z",
     "shell.execute_reply": "2025-03-02T05:38:14.146406Z"
    },
    "papermill": {
     "duration": 0.358064,
     "end_time": "2025-03-02T05:38:14.149405",
     "exception": false,
     "start_time": "2025-03-02T05:38:13.791341",
     "status": "completed"
    },
    "tags": []
   },
   "outputs": [
    {
     "data": {
      "image/png": "[encoded data removed]",
      "text/plain": [
       "<Figure size 800x600 with 1 Axes>"
      ]
     },
     "metadata": {},
     "output_type": "display_data"
    }
   ],
   "source": [
    "import matplotlib.pyplot as plt\n",
    "\n",
    "# Create figure\n",
    "plt.figure(figsize=(8, 6))\n",
    "\n",
    "# Plot lines with markers using 'results' DataFrame values\n",
    "plt.plot(results[\"Model\"], results[\"Accuracy\"], marker='o', linestyle='-', linewidth=2, markersize=8, label=\"Accuracy\", color=\"red\")\n",
    "plt.plot(results[\"Model\"], results[\"Precision\"], marker='s', linestyle='--', linewidth=2, markersize=8, label=\"Precision\", color=\"blue\")\n",
    "plt.plot(results[\"Model\"], results[\"Recall\"], marker='D', linestyle='-.', linewidth=2, markersize=8, label=\"Recall\", color=\"green\")\n",
    "\n",
    "# Add labels and title\n",
    "plt.xlabel(\"Models\", fontsize=12, fontweight=\"bold\")\n",
    "plt.ylabel(\"Performance\", fontsize=12, fontweight=\"bold\")\n",
    "plt.title(\"Model Performance Comparison\", fontsize=14, fontweight=\"bold\")\n",
    "\n",
    "# Set grid and legend\n",
    "plt.xticks(fontsize=11, fontweight=\"bold\")\n",
    "plt.yticks(fontsize=11, fontweight=\"bold\")\n",
    "plt.grid(True, linestyle=\"--\", alpha=0.6)\n",
    "plt.legend(fontsize=12)\n",
    "\n",
    "# Show plot\n",
    "plt.show()\n"
   ]
  },
  {
   "cell_type": "code",
   "execution_count": 5,
   "id": "ae38b739",
   "metadata": {
    "execution": {
     "iopub.execute_input": "2025-03-02T05:38:14.159018Z",
     "iopub.status.busy": "2025-03-02T05:38:14.158662Z",
     "iopub.status.idle": "2025-03-02T05:38:14.169321Z",
     "shell.execute_reply": "2025-03-02T05:38:14.168205Z"
    },
    "papermill": {
     "duration": 0.017696,
     "end_time": "2025-03-02T05:38:14.171263",
     "exception": false,
     "start_time": "2025-03-02T05:38:14.153567",
     "status": "completed"
    },
    "tags": []
   },
   "outputs": [],
   "source": [
    "pd.set_option('display.max_rows', None)  # Show all rows\n",
    "pd.set_option('display.max_columns', None)  # Show all columns\n",
    "pd.set_option('display.width', None)  # Adjust width to fit the screen\n",
    "pd.set_option('display.expand_frame_repr', False)  # Prevent wrapping\n",
    "fair_results = fair_results.drop(fair_results.index[2::2])\n",
    "fair_results = fair_results.reset_index(drop=True)"
   ]
  },
  {
   "cell_type": "code",
   "execution_count": 6,
   "id": "6249b512",
   "metadata": {
    "execution": {
     "iopub.execute_input": "2025-03-02T05:38:14.180771Z",
     "iopub.status.busy": "2025-03-02T05:38:14.180386Z",
     "iopub.status.idle": "2025-03-02T05:38:14.194354Z",
     "shell.execute_reply": "2025-03-02T05:38:14.193290Z"
    },
    "papermill": {
     "duration": 0.020486,
     "end_time": "2025-03-02T05:38:14.195954",
     "exception": false,
     "start_time": "2025-03-02T05:38:14.175468",
     "status": "completed"
    },
    "tags": []
   },
   "outputs": [
    {
     "data": {
      "text/html": [
       "<div>\n",
       "<style scoped>\n",
       "    .dataframe tbody tr th:only-of-type {\n",
       "        vertical-align: middle;\n",
       "    }\n",
       "\n",
       "    .dataframe tbody tr th {\n",
       "        vertical-align: top;\n",
       "    }\n",
       "\n",
       "    .dataframe thead th {\n",
       "        text-align: right;\n",
       "    }\n",
       "</style>\n",
       "<table border=\"1\" class=\"dataframe\">\n",
       "  <thead>\n",
       "    <tr style=\"text-align: right;\">\n",
       "      <th></th>\n",
       "      <th>Description</th>\n",
       "      <th>Disparate Impact</th>\n",
       "    </tr>\n",
       "  </thead>\n",
       "  <tbody>\n",
       "    <tr>\n",
       "      <th>0</th>\n",
       "      <td>Ideal Values</td>\n",
       "      <td>1.000000</td>\n",
       "    </tr>\n",
       "    <tr>\n",
       "      <th>1</th>\n",
       "      <td>MLP GENDER Mitigation</td>\n",
       "      <td>0.813357</td>\n",
       "    </tr>\n",
       "    <tr>\n",
       "      <th>2</th>\n",
       "      <td>MLP Reweighed GENDER Mitigation</td>\n",
       "      <td>0.782578</td>\n",
       "    </tr>\n",
       "    <tr>\n",
       "      <th>3</th>\n",
       "      <td>MLP DIR AGE Mitigation</td>\n",
       "      <td>1.099182</td>\n",
       "    </tr>\n",
       "    <tr>\n",
       "      <th>4</th>\n",
       "      <td>MLP AGE&amp;GENDER Mitigation</td>\n",
       "      <td>1.106402</td>\n",
       "    </tr>\n",
       "    <tr>\n",
       "      <th>5</th>\n",
       "      <td>MLP Reweighed AGE&amp;GENDER Mitigation</td>\n",
       "      <td>1.064872</td>\n",
       "    </tr>\n",
       "    <tr>\n",
       "      <th>6</th>\n",
       "      <td>GRU DIR GENDER Mitigation</td>\n",
       "      <td>0.784576</td>\n",
       "    </tr>\n",
       "    <tr>\n",
       "      <th>7</th>\n",
       "      <td>GRU AGE Mitigation</td>\n",
       "      <td>1.133625</td>\n",
       "    </tr>\n",
       "    <tr>\n",
       "      <th>8</th>\n",
       "      <td>GRU Reweighed AGE Mitigation</td>\n",
       "      <td>1.113970</td>\n",
       "    </tr>\n",
       "    <tr>\n",
       "      <th>9</th>\n",
       "      <td>GRU DIR AGE&amp;GENDER Mitigation</td>\n",
       "      <td>1.025110</td>\n",
       "    </tr>\n",
       "    <tr>\n",
       "      <th>10</th>\n",
       "      <td>LSTM GENDER Mitigation</td>\n",
       "      <td>0.806313</td>\n",
       "    </tr>\n",
       "    <tr>\n",
       "      <th>11</th>\n",
       "      <td>LSTM Reweighed GENDER Mitigation</td>\n",
       "      <td>0.830884</td>\n",
       "    </tr>\n",
       "    <tr>\n",
       "      <th>12</th>\n",
       "      <td>LSTM DIR AGE Mitigation</td>\n",
       "      <td>1.133621</td>\n",
       "    </tr>\n",
       "    <tr>\n",
       "      <th>13</th>\n",
       "      <td>LSTM AGE&amp;GENDER Mitigation</td>\n",
       "      <td>1.071993</td>\n",
       "    </tr>\n",
       "    <tr>\n",
       "      <th>14</th>\n",
       "      <td>LSTM Reweighed AGE&amp;GENDER Mitigation</td>\n",
       "      <td>1.090867</td>\n",
       "    </tr>\n",
       "    <tr>\n",
       "      <th>15</th>\n",
       "      <td>RNN DIR GENDER Mitigation</td>\n",
       "      <td>0.787507</td>\n",
       "    </tr>\n",
       "    <tr>\n",
       "      <th>16</th>\n",
       "      <td>LSTM AGE Mitigation</td>\n",
       "      <td>1.177000</td>\n",
       "    </tr>\n",
       "    <tr>\n",
       "      <th>17</th>\n",
       "      <td>RNN Reweighed AGE Mitigation</td>\n",
       "      <td>1.204676</td>\n",
       "    </tr>\n",
       "    <tr>\n",
       "      <th>18</th>\n",
       "      <td>RNN DIR AGE&amp;GENDER Mitigation</td>\n",
       "      <td>1.031317</td>\n",
       "    </tr>\n",
       "    <tr>\n",
       "      <th>19</th>\n",
       "      <td>CNN GENDER Mitigation</td>\n",
       "      <td>0.761873</td>\n",
       "    </tr>\n",
       "    <tr>\n",
       "      <th>20</th>\n",
       "      <td>CNN Reweighed GENDER Mitigation</td>\n",
       "      <td>0.727156</td>\n",
       "    </tr>\n",
       "    <tr>\n",
       "      <th>21</th>\n",
       "      <td>CNN DIR AGE Mitigation</td>\n",
       "      <td>1.170718</td>\n",
       "    </tr>\n",
       "    <tr>\n",
       "      <th>22</th>\n",
       "      <td>CNN AGE&amp;GENDER Mitigation</td>\n",
       "      <td>1.068305</td>\n",
       "    </tr>\n",
       "    <tr>\n",
       "      <th>23</th>\n",
       "      <td>CNN Reweighed AGE&amp;GENDER Mitigation</td>\n",
       "      <td>1.006281</td>\n",
       "    </tr>\n",
       "    <tr>\n",
       "      <th>24</th>\n",
       "      <td>RFC DIR GENDER Mitigation</td>\n",
       "      <td>0.792380</td>\n",
       "    </tr>\n",
       "    <tr>\n",
       "      <th>25</th>\n",
       "      <td>RFC AGE Mitigation</td>\n",
       "      <td>1.199489</td>\n",
       "    </tr>\n",
       "    <tr>\n",
       "      <th>26</th>\n",
       "      <td>RFC Reweighed AGE Mitigation</td>\n",
       "      <td>1.091946</td>\n",
       "    </tr>\n",
       "    <tr>\n",
       "      <th>27</th>\n",
       "      <td>RFC DIR AGE&amp;GENDER Mitigation</td>\n",
       "      <td>1.088624</td>\n",
       "    </tr>\n",
       "  </tbody>\n",
       "</table>\n",
       "</div>"
      ],
      "text/plain": [
       "                             Description  Disparate Impact\n",
       "0                           Ideal Values          1.000000\n",
       "1                  MLP GENDER Mitigation          0.813357\n",
       "2        MLP Reweighed GENDER Mitigation          0.782578\n",
       "3                 MLP DIR AGE Mitigation          1.099182\n",
       "4              MLP AGE&GENDER Mitigation          1.106402\n",
       "5    MLP Reweighed AGE&GENDER Mitigation          1.064872\n",
       "6              GRU DIR GENDER Mitigation          0.784576\n",
       "7                     GRU AGE Mitigation          1.133625\n",
       "8           GRU Reweighed AGE Mitigation          1.113970\n",
       "9          GRU DIR AGE&GENDER Mitigation          1.025110\n",
       "10                LSTM GENDER Mitigation          0.806313\n",
       "11      LSTM Reweighed GENDER Mitigation          0.830884\n",
       "12               LSTM DIR AGE Mitigation          1.133621\n",
       "13            LSTM AGE&GENDER Mitigation          1.071993\n",
       "14  LSTM Reweighed AGE&GENDER Mitigation          1.090867\n",
       "15             RNN DIR GENDER Mitigation          0.787507\n",
       "16                   LSTM AGE Mitigation          1.177000\n",
       "17          RNN Reweighed AGE Mitigation          1.204676\n",
       "18         RNN DIR AGE&GENDER Mitigation          1.031317\n",
       "19                 CNN GENDER Mitigation          0.761873\n",
       "20       CNN Reweighed GENDER Mitigation          0.727156\n",
       "21                CNN DIR AGE Mitigation          1.170718\n",
       "22             CNN AGE&GENDER Mitigation          1.068305\n",
       "23   CNN Reweighed AGE&GENDER Mitigation          1.006281\n",
       "24             RFC DIR GENDER Mitigation          0.792380\n",
       "25                    RFC AGE Mitigation          1.199489\n",
       "26          RFC Reweighed AGE Mitigation          1.091946\n",
       "27         RFC DIR AGE&GENDER Mitigation          1.088624"
      ]
     },
     "execution_count": 6,
     "metadata": {},
     "output_type": "execute_result"
    }
   ],
   "source": [
    "df = df = fair_results[['Description', fair_results.columns[4]]]\n",
    "df"
   ]
  },
  {
   "cell_type": "code",
   "execution_count": null,
   "id": "1e87f335",
   "metadata": {
    "papermill": {
     "duration": 0.003972,
     "end_time": "2025-03-02T05:38:14.204326",
     "exception": false,
     "start_time": "2025-03-02T05:38:14.200354",
     "status": "completed"
    },
    "tags": []
   },
   "outputs": [],
   "source": []
  }
 ],
 "metadata": {
  "kaggle": {
   "accelerator": "none",
   "dataSources": [
    {
     "databundleVersionId": 11259195,
     "datasetId": 6726572,
     "sourceId": 10891285,
     "sourceType": "datasetVersion"
    }
   ],
   "dockerImageVersionId": 30886,
   "isGpuEnabled": false,
   "isInternetEnabled": true,
   "language": "python",
   "sourceType": "notebook"
  },
  "kernelspec": {
   "display_name": "Python 3",
   "language": "python",
   "name": "python3"
  },
  "language_info": {
   "codemirror_mode": {
    "name": "ipython",
    "version": 3
   },
   "file_extension": ".py",
   "mimetype": "text/x-python",
   "name": "python",
   "nbconvert_exporter": "python",
   "pygments_lexer": "ipython3",
   "version": "3.10.12"
  },
  "papermill": {
   "default_parameters": {},
   "duration": 5.209558,
   "end_time": "2025-03-02T05:38:14.828094",
   "environment_variables": {},
   "exception": null,
   "input_path": "__notebook__.ipynb",
   "output_path": "__notebook__.ipynb",
   "parameters": {},
   "start_time": "2025-03-02T05:38:09.618536",
   "version": "2.6.0"
  }
 },
 "nbformat": 4,
 "nbformat_minor": 5
}
