{
 "cells": [
  {
   "cell_type": "code",
   "execution_count": 1,
   "id": "be6cbfec",
   "metadata": {
    "_cell_guid": "b1076dfc-b9ad-4769-8c92-a6c4dae69d19",
    "_uuid": "8f2839f25d086af736a60e9eeb907d3b93b6e0e5",
    "execution": {
     "iopub.execute_input": "2025-02-25T04:53:02.998658Z",
     "iopub.status.busy": "2025-02-25T04:53:02.998338Z",
     "iopub.status.idle": "2025-02-25T04:53:03.916047Z",
     "shell.execute_reply": "2025-02-25T04:53:03.914630Z"
    },
    "papermill": {
     "duration": 0.923232,
     "end_time": "2025-02-25T04:53:03.917917",
     "exception": false,
     "start_time": "2025-02-25T04:53:02.994685",
     "status": "completed"
    },
    "tags": []
   },
   "outputs": [
    {
     "name": "stdout",
     "output_type": "stream",
     "text": [
      "/kaggle/input/tuner-results/lstm.csv\n",
      "/kaggle/input/tuner-results/gru.csv\n",
      "/kaggle/input/tuner-results/cnn.csv\n",
      "/kaggle/input/tuner-results/rnn.csv\n"
     ]
    }
   ],
   "source": [
    "# This Python 3 environment comes with many helpful analytics libraries installed\n",
    "# It is defined by the kaggle/python Docker image: https://github.com/kaggle/docker-python\n",
    "# For example, here's several helpful packages to load\n",
    "\n",
    "import numpy as np # linear algebra\n",
    "import pandas as pd # data processing, CSV file I/O (e.g. pd.read_csv)\n",
    "\n",
    "# Input data files are available in the read-only \"../input/\" directory\n",
    "# For example, running this (by clicking run or pressing Shift+Enter) will list all files under the input directory\n",
    "\n",
    "import os\n",
    "for dirname, _, filenames in os.walk('/kaggle/input'):\n",
    "    for filename in filenames:\n",
    "        print(os.path.join(dirname, filename))\n",
    "\n",
    "# You can write up to 20GB to the current directory (/kaggle/working/) that gets preserved as output when you create a version using \"Save & Run All\" \n",
    "# You can also write temporary files to /kaggle/temp/, but they won't be saved outside of the current session"
   ]
  },
  {
   "cell_type": "code",
   "execution_count": 2,
   "id": "c1b30ee5",
   "metadata": {
    "execution": {
     "iopub.execute_input": "2025-02-25T04:53:03.923709Z",
     "iopub.status.busy": "2025-02-25T04:53:03.923262Z",
     "iopub.status.idle": "2025-02-25T04:53:03.966071Z",
     "shell.execute_reply": "2025-02-25T04:53:03.964960Z"
    },
    "papermill": {
     "duration": 0.047729,
     "end_time": "2025-02-25T04:53:03.968087",
     "exception": false,
     "start_time": "2025-02-25T04:53:03.920358",
     "status": "completed"
    },
    "tags": []
   },
   "outputs": [],
   "source": [
    "cnn_results = pd.read_csv('/kaggle/input/tuner-results/cnn.csv')\n",
    "gru_results = pd.read_csv('/kaggle/input/tuner-results/gru.csv')\n",
    "lstm_results = pd.read_csv('/kaggle/input/tuner-results/lstm.csv')\n",
    "rnn_results = pd.read_csv('/kaggle/input/tuner-results/rnn.csv')"
   ]
  },
  {
   "cell_type": "code",
   "execution_count": 3,
   "id": "4b7bfef1",
   "metadata": {
    "execution": {
     "iopub.execute_input": "2025-02-25T04:53:03.973550Z",
     "iopub.status.busy": "2025-02-25T04:53:03.973216Z",
     "iopub.status.idle": "2025-02-25T04:53:03.991160Z",
     "shell.execute_reply": "2025-02-25T04:53:03.990171Z"
    },
    "papermill": {
     "duration": 0.022496,
     "end_time": "2025-02-25T04:53:03.992732",
     "exception": false,
     "start_time": "2025-02-25T04:53:03.970236",
     "status": "completed"
    },
    "tags": []
   },
   "outputs": [
    {
     "name": "stdout",
     "output_type": "stream",
     "text": [
      "Best CNN model:\n",
      " timestamp        2025-02-22 21:04:40\n",
      "trial                              1\n",
      "epoch                             34\n",
      "accuracy                    0.940128\n",
      "val_accuracy                0.933711\n",
      "conv_filters                      64\n",
      "kernel_size                        7\n",
      "dropout                          0.1\n",
      "dense_units                      256\n",
      "learning_rate               0.000497\n",
      "Name: 33, dtype: object \n",
      "\n",
      "Best GRU model:\n",
      " trial              1.000000\n",
      "accuracy           0.948608\n",
      "gru_units        128.000000\n",
      "dropout            0.200000\n",
      "dense_units       64.000000\n",
      "learning_rate      0.000924\n",
      "Name: 0, dtype: float64 \n",
      "\n",
      "Best LSTM model:\n",
      " timestamp        2025-02-23 02:00:04\n",
      "trial                              3\n",
      "epoch                             48\n",
      "accuracy                    0.945285\n",
      "val_accuracy                0.943599\n",
      "lstm_units                       128\n",
      "dropout                          0.2\n",
      "dense_units                       64\n",
      "learning_rate               0.000857\n",
      "Name: 147, dtype: object \n",
      "\n",
      "Best RNN model:\n",
      " trial              2.000000\n",
      "accuracy           0.940801\n",
      "rnn_units        128.000000\n",
      "dropout            0.100000\n",
      "dense_units       64.000000\n",
      "learning_rate      0.000955\n",
      "Name: 1, dtype: float64 \n",
      "\n"
     ]
    }
   ],
   "source": [
    "# Find the row with the highest val_accuracy in each dataframe\n",
    "best_cnn = cnn_results.loc[cnn_results['val_accuracy'].idxmax()]\n",
    "best_gru = gru_results.loc[gru_results['accuracy'].idxmax()]\n",
    "best_lstm = lstm_results.loc[lstm_results['val_accuracy'].idxmax()]\n",
    "best_rnn = rnn_results.loc[rnn_results['accuracy'].idxmax()]\n",
    "\n",
    "# Print the best rows\n",
    "print(\"Best CNN model:\\n\", best_cnn, \"\\n\")\n",
    "print(\"Best GRU model:\\n\", best_gru, \"\\n\")\n",
    "print(\"Best LSTM model:\\n\", best_lstm, \"\\n\")\n",
    "print(\"Best RNN model:\\n\", best_rnn, \"\\n\")"
   ]
  },
  {
   "cell_type": "code",
   "execution_count": null,
   "id": "9968b0f1",
   "metadata": {
    "papermill": {
     "duration": 0.001753,
     "end_time": "2025-02-25T04:53:03.996737",
     "exception": false,
     "start_time": "2025-02-25T04:53:03.994984",
     "status": "completed"
    },
    "tags": []
   },
   "outputs": [],
   "source": []
  }
 ],
 "metadata": {
  "kaggle": {
   "accelerator": "none",
   "dataSources": [
    {
     "datasetId": 6726572,
     "sourceId": 10832331,
     "sourceType": "datasetVersion"
    }
   ],
   "dockerImageVersionId": 30918,
   "isGpuEnabled": false,
   "isInternetEnabled": true,
   "language": "python",
   "sourceType": "notebook"
  },
  "kernelspec": {
   "display_name": "Python 3",
   "language": "python",
   "name": "python3"
  },
  "language_info": {
   "codemirror_mode": {
    "name": "ipython",
    "version": 3
   },
   "file_extension": ".py",
   "mimetype": "text/x-python",
   "name": "python",
   "nbconvert_exporter": "python",
   "pygments_lexer": "ipython3",
   "version": "3.10.12"
  },
  "papermill": {
   "default_parameters": {},
   "duration": 4.302907,
   "end_time": "2025-02-25T04:53:04.517451",
   "environment_variables": {},
   "exception": null,
   "input_path": "__notebook__.ipynb",
   "output_path": "__notebook__.ipynb",
   "parameters": {},
   "start_time": "2025-02-25T04:53:00.214544",
   "version": "2.6.0"
  }
 },
 "nbformat": 4,
 "nbformat_minor": 5
}
